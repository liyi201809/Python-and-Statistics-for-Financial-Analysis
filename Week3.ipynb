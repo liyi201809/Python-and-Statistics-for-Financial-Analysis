{
 "cells": [
  {
   "cell_type": "markdown",
   "metadata": {},
   "source": [
    "# 1. Population and Sample"
   ]
  },
  {
   "cell_type": "code",
   "execution_count": 1,
   "metadata": {},
   "outputs": [],
   "source": [
    "import pandas as pd\n",
    "import numpy as np\n",
    "from scipy.stats import norm\n",
    "import matplotlib.pyplot as plt\n",
    "%matplotlib inline"
   ]
  },
  {
   "cell_type": "code",
   "execution_count": 2,
   "metadata": {},
   "outputs": [
    {
     "name": "stdout",
     "output_type": "stream",
     "text": [
      "4    19\n",
      "5    13\n",
      "9    60\n",
      "9    60\n",
      "9    60\n",
      "Name: Population, dtype: int64\n",
      "5    13\n",
      "1    48\n",
      "3    20\n",
      "7    16\n",
      "6    72\n",
      "Name: Population, dtype: int64\n"
     ]
    }
   ],
   "source": [
    "# Create a Population DataFrame with 10 data \n",
    "\n",
    "data = pd.DataFrame()\n",
    "data['Population'] = [47, 48, 85, 20, 19, 13, 72, 16, 50, 60]\n",
    "\n",
    "# Draw 5 samples with/without replacement, size=5 from Population\n",
    "a_sample_with_replacement = data['Population'].sample(5, replace=True)   # might draw one sample many times\n",
    "print(a_sample_with_replacement)                                         # left column is index, right column is population\n",
    "\n",
    "a_sample_without_replacement = data['Population'].sample(5, replace=False)  # only draw each sample once\n",
    "print(a_sample_without_replacement)                                         # left column is index, right column is population"
   ]
  },
  {
   "cell_type": "markdown",
   "metadata": {},
   "source": [
    "# 2. Statistics(mean,var, degree of freedom)"
   ]
  },
  {
   "cell_type": "code",
   "execution_count": 3,
   "metadata": {},
   "outputs": [
    {
     "name": "stdout",
     "output_type": "stream",
     "text": [
      "Population mean is  43.0\n",
      "Population variance ddof =0 is 571.8\n",
      "Population variance ddof =1 is 635.3333333333334\n",
      "manually calculated variance is 571.8\n"
     ]
    },
    {
     "data": {
      "text/plain": [
       "[530.9333333333334,\n",
       " 784.7222222222222,\n",
       " 350.67777777777775,\n",
       " 704.7222222222222,\n",
       " 552.7222222222222]"
      ]
     },
     "execution_count": 3,
     "metadata": {},
     "output_type": "execute_result"
    }
   ],
   "source": [
    "# Calculate mean and variance\n",
    "population_mean = data['Population'].mean()\n",
    "# ddof: “Delta Degrees of Freedom”: the divisor used in the calculation is N - ddof, where N represents the number of elements.\n",
    "population_var1 = data['Population'].var(ddof=0)    # denominator is N\n",
    "population_var2 = data['Population'].var(ddof=1)    # denominator is N-1\n",
    "\n",
    "print('Population mean is ', population_mean)\n",
    "print('Population variance ddof =0 is', population_var1)  \n",
    "print('Population variance ddof =1 is', population_var2)\n",
    "\n",
    "n = data['Population'].size                         # calculate the variance according to the formula\n",
    "sample_difference=[(data['Population'][i]-population_mean)**2 for i in range(n)]\n",
    "var3 = sum(sample_difference)/(n)\n",
    "range_list = []\n",
    "for i in range(n):\n",
    "    range_list.append(i)   \n",
    "#print('number of samples', n)\n",
    "#print('index of the samples range(10):', range_list)\n",
    "print('manually calculated variance is', var3)\n",
    "\n",
    "# Average of an unbiased estimator\n",
    "# randomly draw 10 sample 500 times and compute the average\n",
    "sample_length = 500\n",
    "sample_variance_collection=[data['Population'].sample(10, replace=True).var(ddof=1) for i in range(sample_length)]\n",
    "sample_variance_collection[0:5]"
   ]
  },
  {
   "cell_type": "markdown",
   "metadata": {},
   "source": [
    "# 3.1 Random draw samples based on normal distribution"
   ]
  },
  {
   "cell_type": "code",
   "execution_count": 4,
   "metadata": {},
   "outputs": [
    {
     "name": "stdout",
     "output_type": "stream",
     "text": [
      "sample mean is  10.208873470919881\n",
      "sample SD is  4.7335830955897364\n"
     ]
    }
   ],
   "source": [
    "# Sample mean and SD keep changing, but always within a certain range\n",
    "Fstsample = pd.DataFrame(np.random.normal(10, 5, size=100))   # random draw a sample based on normal distr.\n",
    "print('sample mean is ', Fstsample[0].mean())                # Fstsample[0] is Fstsample itself.\n",
    "print('sample SD is ', Fstsample[0].std(ddof=1))"
   ]
  },
  {
   "cell_type": "markdown",
   "metadata": {
    "collapsed": true
   },
   "source": [
    "# 3.2 Empirical Distribution of mean"
   ]
  },
  {
   "cell_type": "code",
   "execution_count": 5,
   "metadata": {},
   "outputs": [
    {
     "name": "stderr",
     "output_type": "stream",
     "text": [
      "C:\\Users\\YI\\Anaconda3\\lib\\site-packages\\matplotlib\\axes\\_axes.py:6521: MatplotlibDeprecationWarning: \n",
      "The 'normed' kwarg was deprecated in Matplotlib 2.1 and will be removed in 3.1. Use 'density' instead.\n",
      "  alternative=\"'density'\", removal=\"3.1\")\n"
     ]
    },
    {
     "name": "stdout",
     "output_type": "stream",
     "text": [
      "mean of meanlist  9.993661971938419\n"
     ]
    },
    {
     "data": {
      "image/png": "[encoded data removed]",
      "text/plain": [
       "<Figure size 360x216 with 1 Axes>"
      ]
     },
     "metadata": {
      "needs_background": "light"
     },
     "output_type": "display_data"
    }
   ],
   "source": [
    "meanlist = []\n",
    "for t in range(5000):\n",
    "    sample = pd.DataFrame(np.random.normal(10, 5, size=30))\n",
    "    meanlist.append(sample[0].mean())                              # Fstsample[0] is Fstsample itself.\n",
    "\n",
    "collection = pd.DataFrame()\n",
    "collection['meanlist'] = meanlist\n",
    "collection['meanlist'].hist(bins=100, normed=1,figsize=(5,3))\n",
    "\n",
    "print('mean of meanlist ', sum(meanlist)/len(meanlist))           # mean() is not used for list type        "
   ]
  },
  {
   "cell_type": "markdown",
   "metadata": {
    "collapsed": true
   },
   "source": [
    "# 3.3 Sampling from arbritary distribution (central limit theorem)"
   ]
  },
  {
   "cell_type": "code",
   "execution_count": 6,
   "metadata": {},
   "outputs": [
    {
     "data": {
      "text/plain": [
       "array([[<matplotlib.axes._subplots.AxesSubplot object at 0x0000017B20856978>]],\n",
       "      dtype=object)"
      ]
     },
     "execution_count": 6,
     "metadata": {},
     "output_type": "execute_result"
    },
    {
     "data": {
      "image/png": "[encoded data removed]",
      "text/plain": [
       "<Figure size 360x216 with 1 Axes>"
      ]
     },
     "metadata": {
      "needs_background": "light"
     },
     "output_type": "display_data"
    }
   ],
   "source": [
    "# the sample size is larger enough, the distribution of sample mean is approximately normal\n",
    "# apop is not normal, but try to change the sample size from 100 to a larger number. The distribution of sample mean of apop \n",
    "# becomes normal.\n",
    "sample_size = 50\n",
    "samplemeanlist = []\n",
    "apop =  pd.DataFrame([1, 5, 1, 9, 1])                   # Random number list\n",
    "for t in range(2000):\n",
    "    sample = apop[0].sample(sample_size, replace=True)  # from apop select 50 samples\n",
    "    samplemeanlist.append(sample.mean())\n",
    "    \n",
    "acollec = pd.DataFrame()\n",
    "acollec['meanlist'] = samplemeanlist                    # list cannot be used to plot hist\n",
    "acollec.hist(bins=100, normed=1,figsize=(5,3))"
   ]
  },
  {
   "cell_type": "markdown",
   "metadata": {
    "collapsed": true
   },
   "source": [
    "# 4. Confidence Interval\n",
    "### Estimate the average stock return with 90% Confidence Interval"
   ]
  },
  {
   "cell_type": "code",
   "execution_count": 7,
   "metadata": {},
   "outputs": [
    {
     "data": {
      "text/html": [
       "<div>\n",
       "<style scoped>\n",
       "    .dataframe tbody tr th:only-of-type {\n",
       "        vertical-align: middle;\n",
       "    }\n",
       "\n",
       "    .dataframe tbody tr th {\n",
       "        vertical-align: top;\n",
       "    }\n",
       "\n",
       "    .dataframe thead th {\n",
       "        text-align: right;\n",
       "    }\n",
       "</style>\n",
       "<table border=\"1\" class=\"dataframe\">\n",
       "  <thead>\n",
       "    <tr style=\"text-align: right;\">\n",
       "      <th></th>\n",
       "      <th>Open</th>\n",
       "      <th>High</th>\n",
       "      <th>Low</th>\n",
       "      <th>Close</th>\n",
       "      <th>Adj Close</th>\n",
       "      <th>Volume</th>\n",
       "    </tr>\n",
       "    <tr>\n",
       "      <th>Date</th>\n",
       "      <th></th>\n",
       "      <th></th>\n",
       "      <th></th>\n",
       "      <th></th>\n",
       "      <th></th>\n",
       "      <th></th>\n",
       "    </tr>\n",
       "  </thead>\n",
       "  <tbody>\n",
       "    <tr>\n",
       "      <th>2014-12-31</th>\n",
       "      <td>46.730000</td>\n",
       "      <td>47.439999</td>\n",
       "      <td>46.450001</td>\n",
       "      <td>46.450001</td>\n",
       "      <td>42.848763</td>\n",
       "      <td>21552500</td>\n",
       "    </tr>\n",
       "    <tr>\n",
       "      <th>2015-01-02</th>\n",
       "      <td>46.660000</td>\n",
       "      <td>47.419998</td>\n",
       "      <td>46.540001</td>\n",
       "      <td>46.759998</td>\n",
       "      <td>43.134731</td>\n",
       "      <td>27913900</td>\n",
       "    </tr>\n",
       "    <tr>\n",
       "      <th>2015-01-05</th>\n",
       "      <td>46.369999</td>\n",
       "      <td>46.730000</td>\n",
       "      <td>46.250000</td>\n",
       "      <td>46.330002</td>\n",
       "      <td>42.738068</td>\n",
       "      <td>39673900</td>\n",
       "    </tr>\n",
       "    <tr>\n",
       "      <th>2015-01-06</th>\n",
       "      <td>46.380001</td>\n",
       "      <td>46.750000</td>\n",
       "      <td>45.540001</td>\n",
       "      <td>45.650002</td>\n",
       "      <td>42.110783</td>\n",
       "      <td>36447900</td>\n",
       "    </tr>\n",
       "    <tr>\n",
       "      <th>2015-01-07</th>\n",
       "      <td>45.980000</td>\n",
       "      <td>46.459999</td>\n",
       "      <td>45.490002</td>\n",
       "      <td>46.230000</td>\n",
       "      <td>42.645817</td>\n",
       "      <td>29114100</td>\n",
       "    </tr>\n",
       "  </tbody>\n",
       "</table>\n",
       "</div>"
      ],
      "text/plain": [
       "                 Open       High        Low      Close  Adj Close    Volume\n",
       "Date                                                                       \n",
       "2014-12-31  46.730000  47.439999  46.450001  46.450001  42.848763  21552500\n",
       "2015-01-02  46.660000  47.419998  46.540001  46.759998  43.134731  27913900\n",
       "2015-01-05  46.369999  46.730000  46.250000  46.330002  42.738068  39673900\n",
       "2015-01-06  46.380001  46.750000  45.540001  45.650002  42.110783  36447900\n",
       "2015-01-07  45.980000  46.459999  45.490002  46.230000  42.645817  29114100"
      ]
     },
     "execution_count": 7,
     "metadata": {},
     "output_type": "execute_result"
    }
   ],
   "source": [
    "ms = pd.read_csv('C:/Users/YI/Desktop/Coursera/Python Statistics Finance/microsoft.csv',index_col ='Date') # index is date\n",
    "ms.head()"
   ]
  },
  {
   "cell_type": "code",
   "execution_count": 8,
   "metadata": {},
   "outputs": [
    {
     "name": "stdout",
     "output_type": "stream",
     "text": [
      "90% confidence interval is  (-1.560325389937862e-05, 0.001656066226145423)\n"
     ]
    }
   ],
   "source": [
    "# we will use log return for average stock return of Microsoft\n",
    "ms['logReturn'] = np.log(ms['Close'].shift(-1)) - np.log(ms['Close'])\n",
    "\n",
    "# Lets build 90% confidence interval for log return\n",
    "sample_size = ms['logReturn'].shape[0]                         # equivalent: sample_size = ms['logReturn'].size\n",
    "sample_mean = ms['logReturn'].mean()\n",
    "sample_std = ms['logReturn'].std(ddof=1) / (sample_size**0.5)    # for interval\n",
    "\n",
    "# left and right quantile ==========> left + (1-right) = 1 - Confidence Interval\n",
    "z_left = norm.ppf(0.05)\n",
    "z_right = norm.ppf(0.95)\n",
    "# upper and lower bound\n",
    "interval_left = sample_mean + z_left*sample_std\n",
    "interval_right = sample_mean + z_right*sample_std\n",
    "\n",
    "# 90% confidence interval tells you that there will be 90% chance that the average stock return lies between \"interval_left\"\n",
    "# and \"interval_right\".\n",
    "print('90% confidence interval is ', (interval_left, interval_right))"
   ]
  },
  {
   "cell_type": "markdown",
   "metadata": {
    "collapsed": true
   },
   "source": [
    "# 4. Hypothesis testing"
   ]
  },
  {
   "cell_type": "code",
   "execution_count": 9,
   "metadata": {},
   "outputs": [
    {
     "data": {
      "image/png": "[encoded data removed]",
      "text/plain": [
       "<Figure size 720x288 with 1 Axes>"
      ]
     },
     "metadata": {
      "needs_background": "light"
     },
     "output_type": "display_data"
    }
   ],
   "source": [
    "# import microsoft.csv, and add a new feature - logreturn\n",
    "# Log return goes up and down during the period\n",
    "ms['logReturn'].plot(figsize=(10, 4))\n",
    "plt.axhline(0, color='red')\n",
    "plt.show()"
   ]
  },
  {
   "cell_type": "markdown",
   "metadata": {
    "collapsed": true
   },
   "source": [
    "## 4.1 Steps involved in testing a claim by hypothesis testing, two-tails test"
   ]
  },
  {
   "cell_type": "markdown",
   "metadata": {
    "collapsed": true
   },
   "source": [
    "### Step 1: Set hypothesis\n",
    "$H_0 : \\mu = 0$ \n",
    "$H_a : \\mu \\neq 0$\n",
    "\n",
    "H0 means the average stock return is 0,\n",
    "H1 means the average stock return is not equal to 0"
   ]
  },
  {
   "cell_type": "markdown",
   "metadata": {
    "collapsed": true
   },
   "source": [
    "### Step 2: Calculate test statistic"
   ]
  },
  {
   "cell_type": "code",
   "execution_count": 25,
   "metadata": {},
   "outputs": [
    {
     "name": "stdout",
     "output_type": "stream",
     "text": [
      "1.6141477140003675\n"
     ]
    }
   ],
   "source": [
    "sample_mean = ms['logReturn'].mean()\n",
    "sample_std = ms['logReturn'].std(ddof=1)\n",
    "n = ms['logReturn'].shape[0]\n",
    "\n",
    "# if sample size n is large enough, we can use z-distribution, instead of t-distribtuion\n",
    "# mu = 0 under the null hypothesis\n",
    "zhat = (sample_mean - 0)/(sample_std/n**0.5)\n",
    "print(zhat)"
   ]
  },
  {
   "cell_type": "markdown",
   "metadata": {
    "collapsed": true
   },
   "source": [
    "### Step 3: Set decision criteria"
   ]
  },
  {
   "cell_type": "code",
   "execution_count": 26,
   "metadata": {},
   "outputs": [
    {
     "name": "stdout",
     "output_type": "stream",
     "text": [
      "-1.9599639845400545 1.9599639845400545\n"
     ]
    }
   ],
   "source": [
    "# confidence level\n",
    "alpha = 0.05\n",
    "zleft = norm.ppf(alpha/2, 0, 1)\n",
    "zright = -zleft  # z-distribution is symmetric \n",
    "print(zleft, zright)"
   ]
  },
  {
   "cell_type": "markdown",
   "metadata": {
    "collapsed": true
   },
   "source": [
    "### Step 4:  Make decision - shall we reject H0?"
   ]
  },
  {
   "cell_type": "code",
   "execution_count": 27,
   "metadata": {},
   "outputs": [
    {
     "name": "stdout",
     "output_type": "stream",
     "text": [
      "At significant level of 0.05, shall we reject: False\n"
     ]
    }
   ],
   "source": [
    "print('At significant level of {}, shall we reject: {}'.format(alpha, zhat>zright or zhat<zleft))"
   ]
  },
  {
   "cell_type": "markdown",
   "metadata": {
    "collapsed": true
   },
   "source": [
    "## 4.2 Another hyporthesis testing, one tail test\n",
    "$H_0 : \\mu \\leq 0$ \n",
    "$H_a : \\mu > 0$"
   ]
  },
  {
   "cell_type": "code",
   "execution_count": 34,
   "metadata": {},
   "outputs": [
    {
     "name": "stdout",
     "output_type": "stream",
     "text": [
      "zhat is: 1.6141477140003675\n",
      "zright is 1.6448536269514722\n",
      "At significant level of 0.05, shall we reject: False\n"
     ]
    }
   ],
   "source": [
    "# step 2\n",
    "sample_mean = ms['logReturn'].mean()\n",
    "sample_std = ms['logReturn'].std(ddof=1)\n",
    "n = ms['logReturn'].shape[0]\n",
    "# if sample size n is large enough, we can use z-distribution, instead of t-distribtuion\n",
    "# mu = 0 under the null hypothesis\n",
    "zhat = zhat = (sample_mean - 0)/(sample_std/n**0.5)\n",
    "print('zhat is:', zhat)\n",
    "\n",
    "# step 3\n",
    "alpha = 0.05\n",
    "zright = norm.ppf(1-alpha, 0, 1)\n",
    "print('zright is', zright)\n",
    "\n",
    "# step 4\n",
    "print('At significant level of {}, shall we reject: {}'.format(alpha, zhat>zright))"
   ]
  },
  {
   "cell_type": "markdown",
   "metadata": {
    "collapsed": true
   },
   "source": [
    "## 4.2 An alternative method: p-value"
   ]
  },
  {
   "cell_type": "code",
   "execution_count": 36,
   "metadata": {},
   "outputs": [
    {
     "name": "stdout",
     "output_type": "stream",
     "text": [
      "p value is: 0.053247694996968464\n",
      "At significant level of 0.05, shall we reject: False\n"
     ]
    }
   ],
   "source": [
    "# step 3 (p-value)\n",
    "p = 1 - norm.cdf(zhat, 0, 1)\n",
    "print('p value is:',p)\n",
    "# step 4\n",
    "print('At significant level of {}, shall we reject: {}'.format(alpha, p < alpha))"
   ]
  }
 ],
 "metadata": {
  "kernelspec": {
   "display_name": "Python 3",
   "language": "python",
   "name": "python3"
  },
  "language_info": {
   "codemirror_mode": {
    "name": "ipython",
    "version": 3
   },
   "file_extension": ".py",
   "mimetype": "text/x-python",
   "name": "python",
   "nbconvert_exporter": "python",
   "pygments_lexer": "ipython3",
   "version": "3.7.3"
  }
 },
 "nbformat": 4,
 "nbformat_minor": 2
}
