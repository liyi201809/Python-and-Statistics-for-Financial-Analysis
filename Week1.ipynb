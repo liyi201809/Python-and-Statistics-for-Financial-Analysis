{
 "cells": [
  {
   "cell_type": "code",
   "execution_count": 2,
   "metadata": {},
   "outputs": [],
   "source": [
    "import pandas as pd\n",
    "import matplotlib.pyplot as plt\n",
    "%matplotlib inline"
   ]
  },
  {
   "cell_type": "markdown",
   "metadata": {},
   "source": [
    "##  1. Read CSV and choose the index column"
   ]
  },
  {
   "cell_type": "code",
   "execution_count": 3,
   "metadata": {},
   "outputs": [
    {
     "name": "stdout",
     "output_type": "stream",
     "text": [
      "                 Open       High\n",
      "Date                            \n",
      "2014-12-31  46.730000  47.439999\n",
      "2015-01-05  46.369999  46.730000\n",
      "                 Open       High        Low      Close  Adj Close    Volume\n",
      "Date                                                                       \n",
      "2014-12-31  46.730000  47.439999  46.450001  46.450001  42.848763  21552500\n",
      "2015-01-02  46.660000  47.419998  46.540001  46.759998  43.134731  27913900\n",
      "2015-01-05  46.369999  46.730000  46.250000  46.330002  42.738068  39673900\n",
      "2015-01-06  46.380001  46.750000  45.540001  45.650002  42.110783  36447900\n",
      "2015-01-07  45.980000  46.459999  45.490002  46.230000  42.645817  29114100\n",
      "         Date       Open\n",
      "0  2014-12-31  46.730000\n",
      "2  2015-01-05  46.369999\n",
      "         Date       Open       High        Low      Close  Adj Close    Volume\n",
      "0  2014-12-31  46.730000  47.439999  46.450001  46.450001  42.848763  21552500\n",
      "1  2015-01-02  46.660000  47.419998  46.540001  46.759998  43.134731  27913900\n",
      "2  2015-01-05  46.369999  46.730000  46.250000  46.330002  42.738068  39673900\n",
      "3  2015-01-06  46.380001  46.750000  45.540001  45.650002  42.110783  36447900\n",
      "4  2015-01-07  45.980000  46.459999  45.490002  46.230000  42.645817  29114100\n"
     ]
    }
   ],
   "source": [
    "# the index column is column -1, not column 0.\n",
    "ms = pd.read_csv('C:/Users/YI/Desktop/Coursera/Python Statistics Finance/microsoft.csv',index_col ='Date') # index is date\n",
    "print(ms.iloc[[0,2],[0,1]])                                                                                \n",
    "print(ms.head())\n",
    "ms_index = pd.read_csv('C:/Users/YI/Desktop/Coursera/Python Statistics Finance/microsoft.csv')   # index is num\n",
    "#print(ms_index.iloc[[0,2,4], :]) \n",
    "print(ms_index.iloc[[0,2],[0,1]]) \n",
    "print(ms_index.head())"
   ]
  },
  {
   "cell_type": "markdown",
   "metadata": {},
   "source": [
    "## 2. Create a new column in the DataFrame "
   ]
  },
  {
   "cell_type": "code",
   "execution_count": 4,
   "metadata": {},
   "outputs": [
    {
     "name": "stdout",
     "output_type": "stream",
     "text": [
      "Price difference on 2015-01-05 is -0.6799999999999997. direction is 0\n"
     ]
    },
    {
     "data": {
      "text/html": [
       "<div>\n",
       "<style scoped>\n",
       "    .dataframe tbody tr th:only-of-type {\n",
       "        vertical-align: middle;\n",
       "    }\n",
       "\n",
       "    .dataframe tbody tr th {\n",
       "        vertical-align: top;\n",
       "    }\n",
       "\n",
       "    .dataframe thead th {\n",
       "        text-align: right;\n",
       "    }\n",
       "</style>\n",
       "<table border=\"1\" class=\"dataframe\">\n",
       "  <thead>\n",
       "    <tr style=\"text-align: right;\">\n",
       "      <th></th>\n",
       "      <th>Open</th>\n",
       "      <th>High</th>\n",
       "      <th>Low</th>\n",
       "      <th>Close</th>\n",
       "      <th>Adj Close</th>\n",
       "      <th>Volume</th>\n",
       "      <th>PriceDiff</th>\n",
       "      <th>Return</th>\n",
       "      <th>Direction-1</th>\n",
       "      <th>Direction-2</th>\n",
       "    </tr>\n",
       "    <tr>\n",
       "      <th>Date</th>\n",
       "      <th></th>\n",
       "      <th></th>\n",
       "      <th></th>\n",
       "      <th></th>\n",
       "      <th></th>\n",
       "      <th></th>\n",
       "      <th></th>\n",
       "      <th></th>\n",
       "      <th></th>\n",
       "      <th></th>\n",
       "    </tr>\n",
       "  </thead>\n",
       "  <tbody>\n",
       "    <tr>\n",
       "      <th>2014-12-31</th>\n",
       "      <td>46.730000</td>\n",
       "      <td>47.439999</td>\n",
       "      <td>46.450001</td>\n",
       "      <td>46.450001</td>\n",
       "      <td>42.848763</td>\n",
       "      <td>21552500</td>\n",
       "      <td>0.309997</td>\n",
       "      <td>0.006674</td>\n",
       "      <td>1</td>\n",
       "      <td>1</td>\n",
       "    </tr>\n",
       "    <tr>\n",
       "      <th>2015-01-02</th>\n",
       "      <td>46.660000</td>\n",
       "      <td>47.419998</td>\n",
       "      <td>46.540001</td>\n",
       "      <td>46.759998</td>\n",
       "      <td>43.134731</td>\n",
       "      <td>27913900</td>\n",
       "      <td>-0.429996</td>\n",
       "      <td>-0.009196</td>\n",
       "      <td>0</td>\n",
       "      <td>0</td>\n",
       "    </tr>\n",
       "    <tr>\n",
       "      <th>2015-01-05</th>\n",
       "      <td>46.369999</td>\n",
       "      <td>46.730000</td>\n",
       "      <td>46.250000</td>\n",
       "      <td>46.330002</td>\n",
       "      <td>42.738068</td>\n",
       "      <td>39673900</td>\n",
       "      <td>-0.680000</td>\n",
       "      <td>-0.014677</td>\n",
       "      <td>0</td>\n",
       "      <td>0</td>\n",
       "    </tr>\n",
       "    <tr>\n",
       "      <th>2015-01-06</th>\n",
       "      <td>46.380001</td>\n",
       "      <td>46.750000</td>\n",
       "      <td>45.540001</td>\n",
       "      <td>45.650002</td>\n",
       "      <td>42.110783</td>\n",
       "      <td>36447900</td>\n",
       "      <td>0.579998</td>\n",
       "      <td>0.012705</td>\n",
       "      <td>1</td>\n",
       "      <td>1</td>\n",
       "    </tr>\n",
       "    <tr>\n",
       "      <th>2015-01-07</th>\n",
       "      <td>45.980000</td>\n",
       "      <td>46.459999</td>\n",
       "      <td>45.490002</td>\n",
       "      <td>46.230000</td>\n",
       "      <td>42.645817</td>\n",
       "      <td>29114100</td>\n",
       "      <td>1.360000</td>\n",
       "      <td>0.029418</td>\n",
       "      <td>1</td>\n",
       "      <td>1</td>\n",
       "    </tr>\n",
       "  </tbody>\n",
       "</table>\n",
       "</div>"
      ],
      "text/plain": [
       "                 Open       High        Low      Close  Adj Close    Volume  \\\n",
       "Date                                                                          \n",
       "2014-12-31  46.730000  47.439999  46.450001  46.450001  42.848763  21552500   \n",
       "2015-01-02  46.660000  47.419998  46.540001  46.759998  43.134731  27913900   \n",
       "2015-01-05  46.369999  46.730000  46.250000  46.330002  42.738068  39673900   \n",
       "2015-01-06  46.380001  46.750000  45.540001  45.650002  42.110783  36447900   \n",
       "2015-01-07  45.980000  46.459999  45.490002  46.230000  42.645817  29114100   \n",
       "\n",
       "            PriceDiff    Return  Direction-1  Direction-2  \n",
       "Date                                                       \n",
       "2014-12-31   0.309997  0.006674            1            1  \n",
       "2015-01-02  -0.429996 -0.009196            0            0  \n",
       "2015-01-05  -0.680000 -0.014677            0            0  \n",
       "2015-01-06   0.579998  0.012705            1            1  \n",
       "2015-01-07   1.360000  0.029418            1            1  "
      ]
     },
     "execution_count": 4,
     "metadata": {},
     "output_type": "execute_result"
    }
   ],
   "source": [
    "#Your turn to create PriceDiff in the DataFrame ms\n",
    "ms['PriceDiff'] = ms['Close'].shift(-1) - ms['Close']                              # add column by adding two other columns\n",
    "ms['Return'] = ms['PriceDiff'] /ms['Close']\n",
    "ms['Direction-1'] = [1 if x >= 0 else 0 for x in ms['PriceDiff']]                  # add column by conditional statements\n",
    "ms['Direction-2'] = [1 if ms['PriceDiff'].loc[ei] > 0 else 0 for ei in ms.index ]\n",
    "print('Price difference on {} is {}. direction is {}'.format('2015-01-05', ms['PriceDiff'].loc['2015-01-05'], ms['Direction-1'].loc['2015-01-05']))\n",
    "ms.head()"
   ]
  },
  {
   "cell_type": "markdown",
   "metadata": {},
   "source": [
    "## 3. Select Row/Column/Entry from DataFrame "
   ]
  },
  {
   "cell_type": "code",
   "execution_count": 5,
   "metadata": {
    "scrolled": true
   },
   "outputs": [
    {
     "name": "stdout",
     "output_type": "stream",
     "text": [
      "Open           4.637000e+01\n",
      "High           4.673000e+01\n",
      "Low            4.625000e+01\n",
      "Close          4.633000e+01\n",
      "Adj Close      4.273807e+01\n",
      "Volume         3.967390e+07\n",
      "PriceDiff     -6.800000e-01\n",
      "Return        -1.467731e-02\n",
      "Direction-1    0.000000e+00\n",
      "Direction-2    0.000000e+00\n",
      "Name: 2015-01-05, dtype: float64\n",
      "-0.6799999999999997\n",
      "-0.6799999999999997\n",
      "                 Open       High        Low      Close  Adj Close    Volume  \\\n",
      "Date                                                                          \n",
      "2016-01-04  54.320000  54.799999  53.389999  54.799999  51.927593  53778000   \n",
      "2016-01-05  54.930000  55.389999  54.540001  55.049999  52.164490  34079700   \n",
      "2016-01-06  54.320000  54.400002  53.639999  54.049999  51.216900  39518900   \n",
      "2016-01-07  52.700001  53.490002  52.070000  52.169998  49.435444  56564900   \n",
      "2016-01-08  52.369999  53.279999  52.150002  52.330002  49.587063  48754000   \n",
      "2016-01-11  52.509998  52.849998  51.459999  52.299999  49.558632  36663600   \n",
      "2016-01-12  52.759998  53.099998  52.060001  52.779999  50.013470  36095500   \n",
      "2016-01-13  53.799999  54.070000  51.299999  51.639999  48.933224  66883600   \n",
      "2016-01-14  52.000000  53.419998  51.570000  53.110001  50.326180  52381900   \n",
      "2016-01-15  51.310001  51.970001  50.340000  50.990002  48.317295  71820700   \n",
      "2016-01-19  51.480000  51.680000  50.060001  50.560001  47.909836  43564500   \n",
      "2016-01-20  49.980000  51.380001  49.099998  50.790001  48.127781  63273000   \n",
      "2016-01-21  51.000000  51.580002  50.299999  50.480000  47.834030  40191200   \n",
      "2016-01-22  51.410000  52.330002  51.259998  52.290001  49.549152  37555800   \n",
      "2016-01-25  51.939999  52.650002  51.650002  51.790001  49.075359  34707700   \n",
      "2016-01-26  51.790001  52.439999  51.549999  52.169998  49.435444  28699500   \n",
      "2016-01-27  52.009998  52.200001  51.020000  51.220001  48.535240  36775200   \n",
      "2016-01-28  51.860001  52.209999  51.250000  52.060001  49.331215  62513800   \n",
      "2016-01-29  54.730000  55.090000  54.000000  55.090000  52.202389  83611700   \n",
      "2016-02-01  54.880001  55.090000  54.500000  54.709999  51.842304  44208500   \n",
      "2016-02-02  54.169998  54.259998  52.650002  53.000000  50.221935  56313800   \n",
      "2016-02-03  53.250000  53.389999  51.259998  52.160000  49.425968  57559800   \n",
      "2016-02-04  52.099998  52.810001  51.369999  52.000000  49.274361  46803400   \n",
      "2016-02-05  51.939999  52.000000  49.560001  50.160000  47.530804  62009000   \n",
      "2016-02-08  49.549999  49.570000  48.189999  49.410000  46.820110  59290500   \n",
      "2016-02-09  49.020000  50.240002  48.669998  49.279999  46.696926  45822200   \n",
      "2016-02-10  49.889999  50.389999  49.520000  49.709999  47.104385  38237000   \n",
      "2016-02-11  48.680000  50.110001  48.509998  49.689999  47.085438  48878600   \n",
      "2016-02-12  50.250000  50.680000  49.750000  50.500000  47.852978  34243300   \n",
      "2016-02-16  50.900002  51.090000  50.130001  51.090000  48.759647  37291200   \n",
      "...               ...        ...        ...        ...        ...       ...   \n",
      "2016-11-17  60.410000  60.950001  59.970001  60.639999  59.038235  32132700   \n",
      "2016-11-18  60.779999  61.139999  60.299999  60.349998  58.755894  27686300   \n",
      "2016-11-21  60.500000  60.970001  60.419998  60.860001  59.252422  19652600   \n",
      "2016-11-22  60.980000  61.259998  60.810001  61.119999  59.505550  23206700   \n",
      "2016-11-23  61.009998  61.099998  60.250000  60.400002  58.804569  21847200   \n",
      "2016-11-25  60.299999  60.529999  60.130001  60.529999  58.931133   8409600   \n",
      "2016-11-28  60.340000  61.020000  60.209999  60.610001  59.009022  20732600   \n",
      "2016-11-29  60.650002  61.410000  60.520000  61.090000  59.476349  22366700   \n",
      "2016-11-30  60.860001  61.180000  60.220001  60.259998  58.668266  34655400   \n",
      "2016-12-01  60.110001  60.150002  58.939999  59.200001  57.636265  34542100   \n",
      "2016-12-02  59.080002  59.470001  58.799999  59.250000  57.684944  25515700   \n",
      "2016-12-05  59.700001  60.590000  59.560001  60.220001  58.629330  23552700   \n",
      "2016-12-06  60.430000  60.459999  59.799999  59.950001  58.366463  19907000   \n",
      "2016-12-07  60.009998  61.380001  59.799999  61.369999  59.748951  30809000   \n",
      "2016-12-08  61.299999  61.580002  60.840000  61.009998  59.398457  21220800   \n",
      "2016-12-09  61.180000  61.990002  61.130001  61.970001  60.333103  27349400   \n",
      "2016-12-12  61.820000  62.299999  61.720001  62.169998  60.527817  20198100   \n",
      "2016-12-13  62.500000  63.419998  62.240002  62.980000  61.316422  35718900   \n",
      "2016-12-14  63.000000  63.450001  62.529999  62.680000  61.024345  30352700   \n",
      "2016-12-15  62.700001  63.150002  62.299999  62.580002  60.926991  27669900   \n",
      "2016-12-16  62.950001  62.950001  62.119999  62.299999  60.654381  42204700   \n",
      "2016-12-19  62.560001  63.770000  62.419998  63.619999  61.939518  34338200   \n",
      "2016-12-20  63.689999  63.799999  63.029999  63.540001  61.861633  26028400   \n",
      "2016-12-21  63.430000  63.700001  63.119999  63.540001  61.861633  17096300   \n",
      "2016-12-22  63.840000  64.099998  63.410000  63.549999  61.871365  22176600   \n",
      "2016-12-23  63.450001  63.540001  62.799999  63.240002  61.569557  12398000   \n",
      "2016-12-27  63.209999  64.070000  63.209999  63.279999  61.608490  11763200   \n",
      "2016-12-28  63.400002  63.400002  62.830002  62.990002  61.326157  14653300   \n",
      "2016-12-29  62.860001  63.200001  62.730000  62.900002  61.238541  10181600   \n",
      "2016-12-30  62.959999  62.990002  62.029999  62.139999  60.498604  25579900   \n",
      "\n",
      "            PriceDiff    Return  Direction-1  Direction-2  \n",
      "Date                                                       \n",
      "2016-01-04   0.250000  0.004562            1            1  \n",
      "2016-01-05  -1.000000 -0.018165            0            0  \n",
      "2016-01-06  -1.880001 -0.034783            0            0  \n",
      "2016-01-07   0.160004  0.003067            1            1  \n",
      "2016-01-08  -0.030003 -0.000573            0            0  \n",
      "2016-01-11   0.480000  0.009178            1            1  \n",
      "2016-01-12  -1.140000 -0.021599            0            0  \n",
      "2016-01-13   1.470002  0.028466            1            1  \n",
      "2016-01-14  -2.119999 -0.039917            0            0  \n",
      "2016-01-15  -0.430001 -0.008433            0            0  \n",
      "2016-01-19   0.230000  0.004549            1            1  \n",
      "2016-01-20  -0.310001 -0.006104            0            0  \n",
      "2016-01-21   1.810001  0.035856            1            1  \n",
      "2016-01-22  -0.500000 -0.009562            0            0  \n",
      "2016-01-25   0.379997  0.007337            1            1  \n",
      "2016-01-26  -0.949997 -0.018210            0            0  \n",
      "2016-01-27   0.840000  0.016400            1            1  \n",
      "2016-01-28   3.029999  0.058202            1            1  \n",
      "2016-01-29  -0.380001 -0.006898            0            0  \n",
      "2016-02-01  -1.709999 -0.031256            0            0  \n",
      "2016-02-02  -0.840000 -0.015849            0            0  \n",
      "2016-02-03  -0.160000 -0.003067            0            0  \n",
      "2016-02-04  -1.840000 -0.035385            0            0  \n",
      "2016-02-05  -0.750000 -0.014952            0            0  \n",
      "2016-02-08  -0.130001 -0.002631            0            0  \n",
      "2016-02-09   0.430000  0.008726            1            1  \n",
      "2016-02-10  -0.020000 -0.000402            0            0  \n",
      "2016-02-11   0.810001  0.016301            1            1  \n",
      "2016-02-12   0.590000  0.011683            1            1  \n",
      "2016-02-16   1.329998  0.026032            1            1  \n",
      "...               ...       ...          ...          ...  \n",
      "2016-11-17  -0.290001 -0.004782            0            0  \n",
      "2016-11-18   0.510003  0.008451            1            1  \n",
      "2016-11-21   0.259998  0.004272            1            1  \n",
      "2016-11-22  -0.719997 -0.011780            0            0  \n",
      "2016-11-23   0.129997  0.002152            1            1  \n",
      "2016-11-25   0.080002  0.001322            1            1  \n",
      "2016-11-28   0.479999  0.007919            1            1  \n",
      "2016-11-29  -0.830002 -0.013587            0            0  \n",
      "2016-11-30  -1.059997 -0.017590            0            0  \n",
      "2016-12-01   0.049999  0.000845            1            1  \n",
      "2016-12-02   0.970001  0.016371            1            1  \n",
      "2016-12-05  -0.270000 -0.004484            0            0  \n",
      "2016-12-06   1.419998  0.023686            1            1  \n",
      "2016-12-07  -0.360001 -0.005866            0            0  \n",
      "2016-12-08   0.960003  0.015735            1            1  \n",
      "2016-12-09   0.199997  0.003227            1            1  \n",
      "2016-12-12   0.810002  0.013029            1            1  \n",
      "2016-12-13  -0.300000 -0.004763            0            0  \n",
      "2016-12-14  -0.099998 -0.001595            0            0  \n",
      "2016-12-15  -0.280003 -0.004474            0            0  \n",
      "2016-12-16   1.320000  0.021188            1            1  \n",
      "2016-12-19  -0.079998 -0.001257            0            0  \n",
      "2016-12-20   0.000000  0.000000            1            0  \n",
      "2016-12-21   0.009998  0.000157            1            1  \n",
      "2016-12-22  -0.309997 -0.004878            0            0  \n",
      "2016-12-23   0.039997  0.000632            1            1  \n",
      "2016-12-27  -0.289997 -0.004583            0            0  \n",
      "2016-12-28  -0.090000 -0.001429            0            0  \n",
      "2016-12-29  -0.760003 -0.012083            0            0  \n",
      "2016-12-30   0.440003  0.007081            1            1  \n",
      "\n",
      "[252 rows x 10 columns]\n",
      "-0.6799999999999997\n",
      "Date    2014-12-31\n",
      "Open         46.73\n",
      "High         47.44\n",
      "Name: 0, dtype: object\n",
      "46.73\n",
      "46.73\n",
      "2014-12-31\n"
     ]
    },
    {
     "data": {
      "text/plain": [
       "0    46.450001\n",
       "1    46.759998\n",
       "2    46.330002\n",
       "Name: Close, dtype: float64"
      ]
     },
     "execution_count": 5,
     "metadata": {},
     "output_type": "execute_result"
    }
   ],
   "source": [
    "#Retieve a certain data element\n",
    "#Run this code to display the price difference of Microsoft on 2015-01-05\n",
    "print(ms.loc['2015-01-05'])                           # must ensure to set the Date as the index\n",
    "print(ms.loc['2015-01-05','PriceDiff'])\n",
    "print(ms.loc['2015-01-05']['PriceDiff'])\n",
    "print(ms.loc['2016-01-01':'2016-12-31'])\n",
    "print(ms['PriceDiff'].loc['2015-01-05'])              # df['column'].loc['row'],\n",
    "# print(ms['2015-01-05'].loc['PriceDiff'])            # this is wrong, row and column cannot be swapped\n",
    "\n",
    "#Run this code to display the Open of Microsoft on the second row\n",
    "print(ms_index.loc[0][0:3])                                # this df's index is numbers\n",
    "print(ms_index.loc[0,'Open'])\n",
    "print(ms_index.loc[0]['Open'])\n",
    "print(ms_index.iloc[0,0])\n",
    "\n",
    "#Calling the columns\n",
    "ms_index['Close'][0:3]                                     # do not need to use .loc[]"
   ]
  },
  {
   "cell_type": "markdown",
   "metadata": {},
   "source": [
    "## 4. Show summary statistics of a DataFrame"
   ]
  },
  {
   "cell_type": "code",
   "execution_count": 6,
   "metadata": {},
   "outputs": [
    {
     "name": "stdout",
     "output_type": "stream",
     "text": [
      "(780, 10)\n",
      "             Open        High         Low       Close   Adj Close  \\\n",
      "count  780.000000  780.000000  780.000000  780.000000  780.000000   \n",
      "mean    58.912308   59.372308   58.465000   58.945397   56.931553   \n",
      "std     12.852040   12.868060   12.802831   12.830350   13.670080   \n",
      "min     40.340000   40.740002   39.720001   40.290001   37.267815   \n",
      "25%     47.894998   48.295000   47.535001   47.974998   44.792073   \n",
      "50%     56.150002   56.640001   55.700001   56.209999   53.775458   \n",
      "75%     67.892500   68.174997   67.447500   67.740000   66.565508   \n",
      "max     95.139999   96.070000   93.720001   95.010002   94.565781   \n",
      "\n",
      "             Volume   PriceDiff      Return  Direction-1  Direction-2  \n",
      "count  7.800000e+02  779.000000  779.000000   780.000000   780.000000  \n",
      "mean   2.978900e+07    0.053338    0.000921     0.529487     0.516667  \n",
      "std    1.522319e+07    0.786659    0.014237     0.499450     0.500043  \n",
      "min    7.425600e+06   -4.349998   -0.092533     0.000000     0.000000  \n",
      "25%    2.096685e+07   -0.309997   -0.005055     0.000000     0.000000  \n",
      "50%    2.623125e+07    0.020005    0.000356     1.000000     1.000000  \n",
      "75%    3.408020e+07    0.414997    0.007166     1.000000     1.000000  \n",
      "max    1.691640e+08    5.049996    0.104522     1.000000     1.000000  \n"
     ]
    }
   ],
   "source": [
    "# print the shape of ms, 1 line\n",
    "print(ms.shape)\n",
    "# print summary statistics of Microsoft\n",
    "print(ms.describe())"
   ]
  },
  {
   "cell_type": "markdown",
   "metadata": {},
   "source": [
    "## 5. Create a new column in the DataFrame using Rolling Window calculation (.rolling()) - Moving average"
   ]
  },
  {
   "cell_type": "code",
   "execution_count": 12,
   "metadata": {},
   "outputs": [
    {
     "data": {
      "image/png": "[encoded data removed]",
      "text/plain": [
       "<Figure size 432x288 with 1 Axes>"
      ]
     },
     "metadata": {
      "needs_background": "light"
     },
     "output_type": "display_data"
    },
    {
     "name": "stdout",
     "output_type": "stream",
     "text": [
      "Date\n",
      "2015-03-23          NaN\n",
      "2015-03-24          NaN\n",
      "2015-03-25          NaN\n",
      "2015-03-26          NaN\n",
      "2015-03-27    43.675000\n",
      "2015-03-30    43.583500\n",
      "2015-03-31    43.481833\n",
      "2015-04-01    43.388333\n",
      "2015-04-02    43.299000\n",
      "2015-04-06    43.221000\n",
      "Name: ma60, dtype: float64\n"
     ]
    }
   ],
   "source": [
    "# You can use .rolling() to calculate any numbers of days' Moving Average. This is your turn to calculate \"60 days\"\n",
    "# moving average of Microsoft, rename it as \"ma60\". And follow the codes above in plotting a graph\n",
    "ms['ma60'] = ms['Close'].rolling(60).mean()\n",
    "\n",
    "#plot the moving average\n",
    "plt.figure(figsize=(6, 4))\n",
    "ms['ma60'].loc['2015-01-01':'2015-12-31'].plot(label='MA60')\n",
    "ms['Close'].loc['2015-01-01':'2015-12-31'].plot(label='Close')\n",
    "plt.legend()\n",
    "plt.show()\n",
    "print(ms['ma60'][55:65])"
   ]
  },
  {
   "cell_type": "markdown",
   "metadata": {},
   "source": [
    "## 6. Plot the stock data using plot() method"
   ]
  },
  {
   "cell_type": "code",
   "execution_count": 8,
   "metadata": {},
   "outputs": [
    {
     "data": {
      "image/png": "[encoded data removed]",
      "text/plain": [
       "<Figure size 576x288 with 1 Axes>"
      ]
     },
     "metadata": {
      "needs_background": "light"
     },
     "output_type": "display_data"
    }
   ],
   "source": [
    "plt.figure(figsize=(8, 4))\n",
    "# plot only the Close price of 2016 of Microsoft, 1 line \n",
    "ms_2016 = ms.loc['2016-01-01':'2016-12-31']\n",
    "ms_2016['Close'].plot()\n",
    "plt.show()"
   ]
  },
  {
   "cell_type": "markdown",
   "metadata": {},
   "source": [
    "## 7. Build a simple trading strategy "
   ]
  },
  {
   "cell_type": "markdown",
   "metadata": {},
   "source": [
    "### 1. Munging the stock data and add two columns - MA10 and MA50"
   ]
  },
  {
   "cell_type": "code",
   "execution_count": 9,
   "metadata": {},
   "outputs": [
    {
     "data": {
      "text/html": [
       "<div>\n",
       "<style scoped>\n",
       "    .dataframe tbody tr th:only-of-type {\n",
       "        vertical-align: middle;\n",
       "    }\n",
       "\n",
       "    .dataframe tbody tr th {\n",
       "        vertical-align: top;\n",
       "    }\n",
       "\n",
       "    .dataframe thead th {\n",
       "        text-align: right;\n",
       "    }\n",
       "</style>\n",
       "<table border=\"1\" class=\"dataframe\">\n",
       "  <thead>\n",
       "    <tr style=\"text-align: right;\">\n",
       "      <th></th>\n",
       "      <th>Open</th>\n",
       "      <th>High</th>\n",
       "      <th>Low</th>\n",
       "      <th>Close</th>\n",
       "      <th>Adj Close</th>\n",
       "      <th>Volume</th>\n",
       "      <th>MA10</th>\n",
       "      <th>MA50</th>\n",
       "    </tr>\n",
       "    <tr>\n",
       "      <th>Date</th>\n",
       "      <th></th>\n",
       "      <th></th>\n",
       "      <th></th>\n",
       "      <th></th>\n",
       "      <th></th>\n",
       "      <th></th>\n",
       "      <th></th>\n",
       "      <th></th>\n",
       "    </tr>\n",
       "  </thead>\n",
       "  <tbody>\n",
       "    <tr>\n",
       "      <th>2015-03-13</th>\n",
       "      <td>40.700001</td>\n",
       "      <td>41.470001</td>\n",
       "      <td>40.610001</td>\n",
       "      <td>41.380001</td>\n",
       "      <td>38.443489</td>\n",
       "      <td>58007700</td>\n",
       "      <td>42.495</td>\n",
       "      <td>44.0034</td>\n",
       "    </tr>\n",
       "    <tr>\n",
       "      <th>2015-03-16</th>\n",
       "      <td>41.470001</td>\n",
       "      <td>41.639999</td>\n",
       "      <td>41.279999</td>\n",
       "      <td>41.560001</td>\n",
       "      <td>38.610714</td>\n",
       "      <td>35273500</td>\n",
       "      <td>42.263</td>\n",
       "      <td>43.9056</td>\n",
       "    </tr>\n",
       "    <tr>\n",
       "      <th>2015-03-17</th>\n",
       "      <td>41.369999</td>\n",
       "      <td>41.830002</td>\n",
       "      <td>41.150002</td>\n",
       "      <td>41.700001</td>\n",
       "      <td>38.740784</td>\n",
       "      <td>31587200</td>\n",
       "      <td>42.105</td>\n",
       "      <td>43.8044</td>\n",
       "    </tr>\n",
       "    <tr>\n",
       "      <th>2015-03-18</th>\n",
       "      <td>41.430000</td>\n",
       "      <td>42.830002</td>\n",
       "      <td>41.330002</td>\n",
       "      <td>42.500000</td>\n",
       "      <td>39.484009</td>\n",
       "      <td>43971800</td>\n",
       "      <td>42.049</td>\n",
       "      <td>43.7278</td>\n",
       "    </tr>\n",
       "    <tr>\n",
       "      <th>2015-03-19</th>\n",
       "      <td>42.259998</td>\n",
       "      <td>42.590000</td>\n",
       "      <td>42.220001</td>\n",
       "      <td>42.290001</td>\n",
       "      <td>39.288918</td>\n",
       "      <td>33879100</td>\n",
       "      <td>41.967</td>\n",
       "      <td>43.6606</td>\n",
       "    </tr>\n",
       "  </tbody>\n",
       "</table>\n",
       "</div>"
      ],
      "text/plain": [
       "                 Open       High        Low      Close  Adj Close    Volume  \\\n",
       "Date                                                                          \n",
       "2015-03-13  40.700001  41.470001  40.610001  41.380001  38.443489  58007700   \n",
       "2015-03-16  41.470001  41.639999  41.279999  41.560001  38.610714  35273500   \n",
       "2015-03-17  41.369999  41.830002  41.150002  41.700001  38.740784  31587200   \n",
       "2015-03-18  41.430000  42.830002  41.330002  42.500000  39.484009  43971800   \n",
       "2015-03-19  42.259998  42.590000  42.220001  42.290001  39.288918  33879100   \n",
       "\n",
       "              MA10     MA50  \n",
       "Date                         \n",
       "2015-03-13  42.495  44.0034  \n",
       "2015-03-16  42.263  43.9056  \n",
       "2015-03-17  42.105  43.8044  \n",
       "2015-03-18  42.049  43.7278  \n",
       "2015-03-19  41.967  43.6606  "
      ]
     },
     "execution_count": 9,
     "metadata": {},
     "output_type": "execute_result"
    }
   ],
   "source": [
    "#import FB's stock data, add two columns - MA10 and MA50\n",
    "#use dropna to remove any \"Not a Number\" data\n",
    "ms000 = pd.read_csv('C:/Users/YI/Desktop/Coursera/Python Statistics Finance/microsoft.csv',index_col ='Date')\n",
    "ms000['MA10'] = ms000['Close'].rolling(10).mean()\n",
    "ms000['MA50'] = ms000['Close'].rolling(50).mean()\n",
    "ms000 = ms000.dropna()\n",
    "ms000.head()"
   ]
  },
  {
   "cell_type": "markdown",
   "metadata": {},
   "source": [
    "### 2. Add \"Shares\" column to make decisions base on the strategy "
   ]
  },
  {
   "cell_type": "code",
   "execution_count": 10,
   "metadata": {},
   "outputs": [
    {
     "data": {
      "text/plain": [
       "<matplotlib.lines.Line2D at 0x137ac9a8780>"
      ]
     },
     "execution_count": 10,
     "metadata": {},
     "output_type": "execute_result"
    },
    {
     "data": {
      "image/png": "[encoded data removed]",
      "text/plain": [
       "<Figure size 576x288 with 1 Axes>"
      ]
     },
     "metadata": {
      "needs_background": "light"
     },
     "output_type": "display_data"
    }
   ],
   "source": [
    "#Add a new column \"Shares\", if MA10>MA50, denote as 1 (long one share of stock), otherwise, denote as 0 (do nothing)\n",
    "ms000['Shares'] = [1 if ms000.loc[ei, 'MA10']>ms000.loc[ei, 'MA50'] else 0 for ei in ms000.index]\n",
    "\n",
    "#Add a new column \"Profit\" using List Comprehension, for any rows in fb, if Shares=1, the profit is calculated as \n",
    "#the close price of tomorrow - the close price of today. Otherwise the profit is 0.\n",
    "ms000['Close1'] = ms000['Close'].shift(-1)\n",
    "ms000['Profit'] = [ms000.loc[ei, 'Close1'] - ms000.loc[ei, 'Close'] if ms000.loc[ei, 'Shares']==1 else 0 for ei in ms000.index]\n",
    "\n",
    "# Plot the Profit and the 0 line\n",
    "plt.figure(figsize=(8, 4))\n",
    "ms000['Profit'].plot()\n",
    "plt.axhline(y=0, color='red')"
   ]
  },
  {
   "cell_type": "markdown",
   "metadata": {},
   "source": [
    "### 3. Use .cumsum() to display our model's performance if we follow the strategy "
   ]
  },
  {
   "cell_type": "code",
   "execution_count": 11,
   "metadata": {},
   "outputs": [
    {
     "data": {
      "text/html": [
       "<div>\n",
       "<style scoped>\n",
       "    .dataframe tbody tr th:only-of-type {\n",
       "        vertical-align: middle;\n",
       "    }\n",
       "\n",
       "    .dataframe tbody tr th {\n",
       "        vertical-align: top;\n",
       "    }\n",
       "\n",
       "    .dataframe thead th {\n",
       "        text-align: right;\n",
       "    }\n",
       "</style>\n",
       "<table border=\"1\" class=\"dataframe\">\n",
       "  <thead>\n",
       "    <tr style=\"text-align: right;\">\n",
       "      <th></th>\n",
       "      <th>Open</th>\n",
       "      <th>High</th>\n",
       "      <th>Low</th>\n",
       "      <th>Close</th>\n",
       "      <th>Adj Close</th>\n",
       "      <th>Volume</th>\n",
       "      <th>MA10</th>\n",
       "      <th>MA50</th>\n",
       "      <th>Shares</th>\n",
       "      <th>Close1</th>\n",
       "      <th>Profit</th>\n",
       "      <th>wealth</th>\n",
       "    </tr>\n",
       "    <tr>\n",
       "      <th>Date</th>\n",
       "      <th></th>\n",
       "      <th></th>\n",
       "      <th></th>\n",
       "      <th></th>\n",
       "      <th></th>\n",
       "      <th></th>\n",
       "      <th></th>\n",
       "      <th></th>\n",
       "      <th></th>\n",
       "      <th></th>\n",
       "      <th></th>\n",
       "      <th></th>\n",
       "    </tr>\n",
       "  </thead>\n",
       "  <tbody>\n",
       "    <tr>\n",
       "      <th>2018-01-30</th>\n",
       "      <td>93.300003</td>\n",
       "      <td>93.660004</td>\n",
       "      <td>92.099998</td>\n",
       "      <td>92.739998</td>\n",
       "      <td>92.306389</td>\n",
       "      <td>38635100</td>\n",
       "      <td>91.862</td>\n",
       "      <td>86.5244</td>\n",
       "      <td>1</td>\n",
       "      <td>95.010002</td>\n",
       "      <td>2.270004</td>\n",
       "      <td>30.540009</td>\n",
       "    </tr>\n",
       "    <tr>\n",
       "      <th>2018-01-31</th>\n",
       "      <td>93.750000</td>\n",
       "      <td>95.400002</td>\n",
       "      <td>93.510002</td>\n",
       "      <td>95.010002</td>\n",
       "      <td>94.565781</td>\n",
       "      <td>48756300</td>\n",
       "      <td>92.349</td>\n",
       "      <td>86.7606</td>\n",
       "      <td>1</td>\n",
       "      <td>94.260002</td>\n",
       "      <td>-0.750000</td>\n",
       "      <td>29.790009</td>\n",
       "    </tr>\n",
       "    <tr>\n",
       "      <th>2018-02-01</th>\n",
       "      <td>94.790001</td>\n",
       "      <td>96.070000</td>\n",
       "      <td>93.580002</td>\n",
       "      <td>94.260002</td>\n",
       "      <td>93.819290</td>\n",
       "      <td>47227900</td>\n",
       "      <td>92.765</td>\n",
       "      <td>86.9978</td>\n",
       "      <td>1</td>\n",
       "      <td>91.779999</td>\n",
       "      <td>-2.480003</td>\n",
       "      <td>27.310006</td>\n",
       "    </tr>\n",
       "    <tr>\n",
       "      <th>2018-02-02</th>\n",
       "      <td>93.639999</td>\n",
       "      <td>93.970001</td>\n",
       "      <td>91.500000</td>\n",
       "      <td>91.779999</td>\n",
       "      <td>91.350883</td>\n",
       "      <td>47867800</td>\n",
       "      <td>92.943</td>\n",
       "      <td>87.1828</td>\n",
       "      <td>1</td>\n",
       "      <td>88.000000</td>\n",
       "      <td>-3.779999</td>\n",
       "      <td>23.530007</td>\n",
       "    </tr>\n",
       "    <tr>\n",
       "      <th>2018-02-05</th>\n",
       "      <td>90.559998</td>\n",
       "      <td>93.239998</td>\n",
       "      <td>88.000000</td>\n",
       "      <td>88.000000</td>\n",
       "      <td>87.588554</td>\n",
       "      <td>51031500</td>\n",
       "      <td>92.582</td>\n",
       "      <td>87.2684</td>\n",
       "      <td>1</td>\n",
       "      <td>NaN</td>\n",
       "      <td>NaN</td>\n",
       "      <td>NaN</td>\n",
       "    </tr>\n",
       "  </tbody>\n",
       "</table>\n",
       "</div>"
      ],
      "text/plain": [
       "                 Open       High        Low      Close  Adj Close    Volume  \\\n",
       "Date                                                                          \n",
       "2018-01-30  93.300003  93.660004  92.099998  92.739998  92.306389  38635100   \n",
       "2018-01-31  93.750000  95.400002  93.510002  95.010002  94.565781  48756300   \n",
       "2018-02-01  94.790001  96.070000  93.580002  94.260002  93.819290  47227900   \n",
       "2018-02-02  93.639999  93.970001  91.500000  91.779999  91.350883  47867800   \n",
       "2018-02-05  90.559998  93.239998  88.000000  88.000000  87.588554  51031500   \n",
       "\n",
       "              MA10     MA50  Shares     Close1    Profit     wealth  \n",
       "Date                                                                 \n",
       "2018-01-30  91.862  86.5244       1  95.010002  2.270004  30.540009  \n",
       "2018-01-31  92.349  86.7606       1  94.260002 -0.750000  29.790009  \n",
       "2018-02-01  92.765  86.9978       1  91.779999 -2.480003  27.310006  \n",
       "2018-02-02  92.943  87.1828       1  88.000000 -3.779999  23.530007  \n",
       "2018-02-05  92.582  87.2684       1        NaN       NaN        NaN  "
      ]
     },
     "execution_count": 11,
     "metadata": {},
     "output_type": "execute_result"
    },
    {
     "data": {
      "image/png": "[encoded data removed]",
      "text/plain": [
       "<Figure size 720x288 with 1 Axes>"
      ]
     },
     "metadata": {
      "needs_background": "light"
     },
     "output_type": "display_data"
    }
   ],
   "source": [
    "#Use .cumsum() to calculate the accumulated wealth over the period\n",
    "\n",
    "ms000['wealth'] = ms000['Profit'].cumsum()  \n",
    "\n",
    "#plot the wealth to show the growth of profit over the period\n",
    "plt.figure(figsize=(10, 4))\n",
    "ms000['wealth'].plot()\n",
    "plt.title('Total money you win is {}'.format(ms000.loc[ms000.index[-2], 'wealth']))\n",
    "\n",
    "ms000.head()\n",
    "ms000.tail()"
   ]
  }
 ],
 "metadata": {
  "kernelspec": {
   "display_name": "Python 3",
   "language": "python",
   "name": "python3"
  },
  "language_info": {
   "codemirror_mode": {
    "name": "ipython",
    "version": 3
   },
   "file_extension": ".py",
   "mimetype": "text/x-python",
   "name": "python",
   "nbconvert_exporter": "python",
   "pygments_lexer": "ipython3",
   "version": "3.7.3"
  }
 },
 "nbformat": 4,
 "nbformat_minor": 2
}
