{
 "cells": [
  {
   "cell_type": "markdown",
   "metadata": {},
   "source": [
    "## 1. Samples, Outcomes and Variables"
   ]
  },
  {
   "cell_type": "code",
   "execution_count": 1,
   "metadata": {},
   "outputs": [],
   "source": [
    "import pandas as pd\n",
    "import numpy as np\n",
    "import matplotlib.pyplot as plt\n",
    "%matplotlib inline"
   ]
  },
  {
   "cell_type": "markdown",
   "metadata": {},
   "source": [
    "### 1.1 Mimic the roll dice game"
   ]
  },
  {
   "cell_type": "code",
   "execution_count": 3,
   "metadata": {},
   "outputs": [
    {
     "name": "stdout",
     "output_type": "stream",
     "text": [
      "Sum of dice is 7\n"
     ]
    }
   ],
   "source": [
    "# roll two dice for multiple times\n",
    "die = pd.DataFrame([1, 2, 3, 4, 5, 6])\n",
    "sum_of_dice = die.sample(2, replace=True).sum().loc[0]   # replace means draw the same sample values many times is possible\n",
    "print('Sum of dice is', sum_of_dice)\n",
    "# you may get different outcomes as we now mimic the result of rolling 2 dice, but the range must be limited between 2 and 12. "
   ]
  },
  {
   "cell_type": "markdown",
   "metadata": {},
   "source": [
    "### 1.2 Mimic the roll dice game for multiple times"
   ]
  },
  {
   "cell_type": "code",
   "execution_count": 5,
   "metadata": {},
   "outputs": [
    {
     "name": "stdout",
     "output_type": "stream",
     "text": [
      "[3, 4, 6, 3, 6, 8, 5, 10, 6, 7]\n"
     ]
    }
   ],
   "source": [
    "# The following code mimics the roll dice game for 50 times. And the results are all stored into \"Result\"\n",
    "# Lets try and get the results of 50 sum of faces.\n",
    "trial = 50\n",
    "result = [die.sample(2, replace=True).sum().loc[0] for i in range(trial)]\n",
    "#print the first 10 results\n",
    "print(result[:10])"
   ]
  },
  {
   "cell_type": "markdown",
   "metadata": {},
   "source": [
    "## 2. Frequency and Distribution"
   ]
  },
  {
   "cell_type": "code",
   "execution_count": 14,
   "metadata": {},
   "outputs": [
    {
     "name": "stdout",
     "output_type": "stream",
     "text": [
      "[3, 8, 3, 4, 9, 11, 4, 4, 7, 10, 6, 7, 7, 10, 6, 2, 6, 7, 2, 7, 7, 4, 7, 10, 8, 5, 3, 5, 7, 8, 7, 4, 9, 4, 8, 5, 5, 12, 7, 7, 5, 9, 8, 12, 6, 9, 8, 3, 9, 6, 10, 8, 5, 6, 10, 9, 12, 8, 9, 9, 3, 6, 9, 7, 9, 7, 7, 4, 5, 8, 11, 7, 8, 7, 10, 7, 2, 9, 7, 5, 8, 10, 6, 7, 5, 10, 5, 10, 6, 7, 2, 6, 7, 9, 7, 10, 7, 6, 5, 7]\n",
      "2      4\n",
      "3      5\n",
      "4      7\n",
      "5     11\n",
      "6     11\n",
      "7     24\n",
      "8     11\n",
      "9     12\n",
      "10    10\n",
      "11     2\n",
      "12     3\n",
      "Name: 0, dtype: int64\n"
     ]
    }
   ],
   "source": [
    "# To recall, this is the code to mimic the roll dice game for 50 times\n",
    "\n",
    "die = pd.DataFrame([1, 2, 3, 4, 5, 6])\n",
    "trial = 100\n",
    "results = [die.sample(2, replace=True).sum().loc[0] for i in range(trial)]\n",
    "\n",
    "# This is the code for summarizing the results of sum of faces by frequency\n",
    "freq = pd.DataFrame(results)[0].value_counts()         # value_counts is only used for Indextype\n",
    "#freq = pd.Index(results).value_counts()               # an alternative way\n",
    "sort_freq = freq.sort_index()\n",
    "\n",
    "print(results)\n",
    "print(sort_freq)"
   ]
  },
  {
   "cell_type": "markdown",
   "metadata": {},
   "source": [
    "## 3. Relative Frequency"
   ]
  },
  {
   "cell_type": "code",
   "execution_count": 15,
   "metadata": {},
   "outputs": [
    {
     "data": {
      "text/plain": [
       "<matplotlib.axes._subplots.AxesSubplot at 0x1c8abf167b8>"
      ]
     },
     "execution_count": 15,
     "metadata": {},
     "output_type": "execute_result"
    },
    {
     "data": {
      "image/png": "[encoded data removed]",
      "text/plain": [
       "<Figure size 720x216 with 2 Axes>"
      ]
     },
     "metadata": {
      "needs_background": "light"
     },
     "output_type": "display_data"
    }
   ],
   "source": [
    "# Using relative frequency, we can rescale the frequency so that we can compare results from different number of trials\n",
    "relative_freq = sort_freq/trial\n",
    "plt.subplot(1,2,1)\n",
    "relative_freq.plot(kind='bar', color='blue', figsize=(10, 3))\n",
    "\n",
    "# Let us try to increase the number of trials to 10000, and see what will happen...\n",
    "trial = 10000\n",
    "results = [die.sample(2, replace=True).sum().loc[0] for i in range(trial)]\n",
    "freq = pd.DataFrame(results)[0].value_counts()         # value_counts is only used for Indextype\n",
    "#freq = pd.Index(results).value_counts()               # an alternative way\n",
    "sort_freq = freq.sort_index()\n",
    "\n",
    "relative_freq = sort_freq/trial\n",
    "plt.subplot(1,2,2)\n",
    "relative_freq.plot(kind='bar', color='blue', figsize=(10, 3))"
   ]
  },
  {
   "cell_type": "markdown",
   "metadata": {},
   "source": [
    "### We can see that with more trials, the result looks more and more stable, and this is very close to a probability distribution. Try increasing the number of \"trial\" further (but it may take some time for Jupyter Notebook to output the result)"
   ]
  },
  {
   "cell_type": "markdown",
   "metadata": {},
   "source": [
    "## 4. Expectation and Variance of a distribution"
   ]
  },
  {
   "cell_type": "code",
   "execution_count": 7,
   "metadata": {},
   "outputs": [
    {
     "name": "stdout",
     "output_type": "stream",
     "text": [
      "From assumed fair dices, 6.999999999999998 5.833333333333333\n",
      "From drawing two dices, 6.986533333333333 5.83567436051278\n"
     ]
    }
   ],
   "source": [
    "#### 1. assume that we have fair dice, which means all faces will be shown with equal probability\n",
    "X_distri = pd.DataFrame(index=[2, 3, 4, 5, 6, 7, 8, 9, 10, 11, 12])\n",
    "X_distri['Prob'] = [1, 2, 3, 4, 5, 6, 5, 4, 3, 2, 1]\n",
    "X_distri['Prob'] = X_distri['Prob']/36\n",
    "\n",
    "mean = pd.Series(X_distri.index * X_distri['Prob']).sum()\n",
    "var = pd.Series(((X_distri.index - mean)**2)*X_distri['Prob']).sum()\n",
    "#Output the mean and variance of the distribution. Mean and variance can be used to describe a distribution\n",
    "print('From assumed fair dices,', mean, var)\n",
    "\n",
    "#### 2. Random roll two dices, if we calculate mean and variance of outcomes (with high enough number of trials, eg 10000)...\n",
    "trial = 15000\n",
    "results = [die.sample(2, replace=True).sum().loc[0] for i in range(trial)]\n",
    "\n",
    "#print the mean and variance of the trails\n",
    "results = pd.Series(results)\n",
    "print('From drawing two dices,', results.mean(), results.var())"
   ]
  },
  {
   "cell_type": "markdown",
   "metadata": {},
   "source": [
    "## 5. Models of Stock Return"
   ]
  },
  {
   "cell_type": "code",
   "execution_count": 11,
   "metadata": {},
   "outputs": [
    {
     "data": {
      "text/html": [
       "<div>\n",
       "<style scoped>\n",
       "    .dataframe tbody tr th:only-of-type {\n",
       "        vertical-align: middle;\n",
       "    }\n",
       "\n",
       "    .dataframe tbody tr th {\n",
       "        vertical-align: top;\n",
       "    }\n",
       "\n",
       "    .dataframe thead th {\n",
       "        text-align: right;\n",
       "    }\n",
       "</style>\n",
       "<table border=\"1\" class=\"dataframe\">\n",
       "  <thead>\n",
       "    <tr style=\"text-align: right;\">\n",
       "      <th></th>\n",
       "      <th>Open</th>\n",
       "      <th>High</th>\n",
       "      <th>Low</th>\n",
       "      <th>Close</th>\n",
       "      <th>Adj Close</th>\n",
       "      <th>Volume</th>\n",
       "    </tr>\n",
       "    <tr>\n",
       "      <th>Date</th>\n",
       "      <th></th>\n",
       "      <th></th>\n",
       "      <th></th>\n",
       "      <th></th>\n",
       "      <th></th>\n",
       "      <th></th>\n",
       "    </tr>\n",
       "  </thead>\n",
       "  <tbody>\n",
       "    <tr>\n",
       "      <th>2014-12-31</th>\n",
       "      <td>46.730000</td>\n",
       "      <td>47.439999</td>\n",
       "      <td>46.450001</td>\n",
       "      <td>46.450001</td>\n",
       "      <td>42.848763</td>\n",
       "      <td>21552500</td>\n",
       "    </tr>\n",
       "    <tr>\n",
       "      <th>2015-01-02</th>\n",
       "      <td>46.660000</td>\n",
       "      <td>47.419998</td>\n",
       "      <td>46.540001</td>\n",
       "      <td>46.759998</td>\n",
       "      <td>43.134731</td>\n",
       "      <td>27913900</td>\n",
       "    </tr>\n",
       "    <tr>\n",
       "      <th>2015-01-05</th>\n",
       "      <td>46.369999</td>\n",
       "      <td>46.730000</td>\n",
       "      <td>46.250000</td>\n",
       "      <td>46.330002</td>\n",
       "      <td>42.738068</td>\n",
       "      <td>39673900</td>\n",
       "    </tr>\n",
       "    <tr>\n",
       "      <th>2015-01-06</th>\n",
       "      <td>46.380001</td>\n",
       "      <td>46.750000</td>\n",
       "      <td>45.540001</td>\n",
       "      <td>45.650002</td>\n",
       "      <td>42.110783</td>\n",
       "      <td>36447900</td>\n",
       "    </tr>\n",
       "    <tr>\n",
       "      <th>2015-01-07</th>\n",
       "      <td>45.980000</td>\n",
       "      <td>46.459999</td>\n",
       "      <td>45.490002</td>\n",
       "      <td>46.230000</td>\n",
       "      <td>42.645817</td>\n",
       "      <td>29114100</td>\n",
       "    </tr>\n",
       "  </tbody>\n",
       "</table>\n",
       "</div>"
      ],
      "text/plain": [
       "                 Open       High        Low      Close  Adj Close    Volume\n",
       "Date                                                                       \n",
       "2014-12-31  46.730000  47.439999  46.450001  46.450001  42.848763  21552500\n",
       "2015-01-02  46.660000  47.419998  46.540001  46.759998  43.134731  27913900\n",
       "2015-01-05  46.369999  46.730000  46.250000  46.330002  42.738068  39673900\n",
       "2015-01-06  46.380001  46.750000  45.540001  45.650002  42.110783  36447900\n",
       "2015-01-07  45.980000  46.459999  45.490002  46.230000  42.645817  29114100"
      ]
     },
     "execution_count": 11,
     "metadata": {},
     "output_type": "execute_result"
    }
   ],
   "source": [
    "ms = pd.read_csv('C:/Users/YI/Desktop/Coursera/Python Statistics Finance/microsoft.csv',index_col ='Date') # index is date\n",
    "ms.head()"
   ]
  },
  {
   "cell_type": "markdown",
   "metadata": {},
   "source": [
    "### 5.1 Distribution of Log return"
   ]
  },
  {
   "cell_type": "code",
   "execution_count": 24,
   "metadata": {},
   "outputs": [
    {
     "name": "stdout",
     "output_type": "stream",
     "text": [
      "0.0008202314861230223 0.014191897388737506\n"
     ]
    },
    {
     "data": {
      "image/png": "[encoded data removed]",
      "text/plain": [
       "<Figure size 1080x576 with 1 Axes>"
      ]
     },
     "metadata": {
      "needs_background": "light"
     },
     "output_type": "display_data"
    }
   ],
   "source": [
    "# let play around with ms data by calculating the log daily return\n",
    "ms['LogReturn'] = np.log(ms['Close']).shift(-1) - np.log(ms['Close'])\n",
    "\n",
    "# Plot a histogram to show the distribution of log return of Microsoft's stock. \n",
    "# You can see it is very close to a normal distribution\n",
    "from scipy.stats import norm\n",
    "mu = ms['LogReturn'].mean()\n",
    "sigma = ms['LogReturn'].std(ddof=1)\n",
    "print(mu, sigma)\n",
    "\n",
    "density = pd.DataFrame()                                                                # the area under the pdf is 1\n",
    "density['x'] = np.arange(ms['LogReturn'].min()-0.2, ms['LogReturn'].max()+0.2, 0.001)   # input data series as x-axis\n",
    "density['pdf'] = norm.pdf(density['x'], mu, sigma)                                      # compute the pdf of the series as y-axis \n",
    "\n",
    "density1 = pd.DataFrame()                                                               # create another series for comparison\n",
    "density1['x'] = np.arange(ms['LogReturn'].min()-0.2, ms['LogReturn'].max()+0.2, 0.001)  # x-axis\n",
    "density1['pdf'] = norm.pdf(density1['x'], mu+0.05, sigma+0.01)                          # shift mu & sigma, get another norm-distr.\n",
    "\n",
    "ms['LogReturn'].hist(bins=50, figsize=(15, 8))\n",
    "\n",
    "plt.plot(density['x'], density['pdf'], color='red')\n",
    "plt.plot(density1['x'], density1['pdf'], color='green')\n",
    "plt.show()"
   ]
  },
  {
   "cell_type": "markdown",
   "metadata": {},
   "source": [
    "### 5.2 Calculate the probability of the stock price will drop over a certain percentage in a day"
   ]
  },
  {
   "cell_type": "code",
   "execution_count": 14,
   "metadata": {},
   "outputs": [
    {
     "name": "stdout",
     "output_type": "stream",
     "text": [
      "The Probability is  0.00017118482608677817\n"
     ]
    }
   ],
   "source": [
    "# probability that the stock price of microsoft will drop over 5% in a day\n",
    "prob_return1 = norm.cdf(-0.05, mu, sigma)    # cdf = F(x) = P(X<=x), drop over 5% is equivalent to return rate <= -0.05\n",
    "print('The Probability is ', prob_return1)"
   ]
  },
  {
   "cell_type": "code",
   "execution_count": 43,
   "metadata": {},
   "outputs": [
    {
     "data": {
      "text/plain": [
       "Text(0, 0.5, 'prob_return')"
      ]
     },
     "execution_count": 43,
     "metadata": {},
     "output_type": "execute_result"
    },
    {
     "data": {
      "image/png": "[encoded data removed]",
      "text/plain": [
       "<Figure size 432x144 with 1 Axes>"
      ]
     },
     "metadata": {
      "needs_background": "light"
     },
     "output_type": "display_data"
    }
   ],
   "source": [
    "# Now is your turn, calculate the probability that the stock price of microsoft will drop over 10% in a day\n",
    "cdf_list = np.arange(-0.05, 0.05, 0.00001)\n",
    "prob_return = norm.cdf(cdf_list, mu, sigma)\n",
    "plt.figure(figsize=(6,2))\n",
    "plt.plot(cdf_list, prob_return, color='red')\n",
    "plt.xlabel('cdf_list')\n",
    "plt.ylabel('prob_return')"
   ]
  },
  {
   "cell_type": "markdown",
   "metadata": {},
   "source": [
    "### 5.3 Calculate the probability of the stock price will drop over a certain percentage in a year"
   ]
  },
  {
   "cell_type": "code",
   "execution_count": 18,
   "metadata": {},
   "outputs": [
    {
     "name": "stdout",
     "output_type": "stream",
     "text": [
      "The probability of dropping over 40% in 220 days is  0.002912363313330548\n"
     ]
    }
   ],
   "source": [
    "# drop over 40% in 220 days\n",
    "# the mean for 220 days\n",
    "mu220 = 220*mu       \n",
    "# the var for 220 days\n",
    "sigma220 = (220**0.5) * sigma\n",
    "print('The probability of dropping over 40% in 220 days is ', norm.cdf(-0.4, mu220, sigma220))"
   ]
  },
  {
   "cell_type": "markdown",
   "metadata": {},
   "source": [
    "### 5.4 Calculate Value at risk (VaR)"
   ]
  },
  {
   "cell_type": "code",
   "execution_count": 41,
   "metadata": {},
   "outputs": [
    {
     "name": "stdout",
     "output_type": "stream",
     "text": [
      "Single day value at risk  -0.022523362407065\n",
      "corresponding quartile 0.049999999999999975\n"
     ]
    },
    {
     "data": {
      "image/png": "[encoded data removed]",
      "text/plain": [
       "<Figure size 720x216 with 2 Axes>"
      ]
     },
     "metadata": {
      "needs_background": "light"
     },
     "output_type": "display_data"
    }
   ],
   "source": [
    "# Value at risk(VaR)                          # how much a set of investment might be lost, given a 5% chance. \n",
    "VaR = norm.ppf(0.05, mu, sigma)               # percent point function (ppf) is the inverse of the cdf.\n",
    "print('Single day value at risk ', VaR)       # VaR at the level of 95%. 5% chance return will be worse than VaR, -0.022.\n",
    "\n",
    "quatile = norm.cdf(VaR, mu, sigma)            # cdf(VaR) = P(L<=VaR )= quatiles = 1-c, c is confident interval of 95% \n",
    "print('corresponding quartile', quatile)      # in the 2nd subplot, P(L>VaR) = c\n",
    "\n",
    "# visualize the VaR                              \n",
    "quantile_list = np.arange(0.01, 0.99, 0.01)      \n",
    "VaR_list = norm.ppf(quantile_list, mu, sigma)    \n",
    "\n",
    "plt.figure(figsize=(10,3))\n",
    "plt.subplot(1,2,1)\n",
    "plt.plot(quantile_list, VaR_list, color='red')\n",
    "plt.xlabel('quantile value')\n",
    "plt.ylabel('VaR')\n",
    "\n",
    "plt.subplot(1,2,2)\n",
    "plt.plot(VaR_list, quantile_list, color='red')\n",
    "plt.ylabel('quantile value')\n",
    "plt.xlabel('VaR')\n",
    "plt.show()"
   ]
  },
  {
   "cell_type": "code",
   "execution_count": 9,
   "metadata": {},
   "outputs": [
    {
     "name": "stdout",
     "output_type": "stream",
     "text": [
      "5% quantile  inf\n",
      "95% quantile  0.0241638253793\n"
     ]
    }
   ],
   "source": [
    "# Quatile \n",
    "# 5% quantile\n",
    "print('5% quantile ', norm.ppf(0.05, mu, sigma))   # 5% quartile = VaR level\n",
    "# 95% quantile\n",
    "print('95% quantile ', norm.ppf(0.95, mu, sigma))   "
   ]
  },
  {
   "cell_type": "code",
   "execution_count": 6,
   "metadata": {},
   "outputs": [
    {
     "name": "stdout",
     "output_type": "stream",
     "text": [
      "25% quantile  -0.00875205783841\n",
      "75% quantile  0.0103925208107\n"
     ]
    }
   ],
   "source": [
    "# This is your turn to calcuate the 25% and 75% Quantile of the return\n",
    "# 25% quantile\n",
    "q25 = norm.ppf(0.25, mu, sigma)\n",
    "print('25% quantile ', q25)\n",
    "# 75% quantile\n",
    "q75 = norm.ppf(0.75, mu, sigma)\n",
    "print('75% quantile ', q75)"
   ]
  },
  {
   "cell_type": "markdown",
   "metadata": {},
   "source": [
    "**Expected Output: ** 25% quantile  -0.00875205783841\n",
    "75% quantile  0.0103925208107"
   ]
  }
 ],
 "metadata": {
  "kernelspec": {
   "display_name": "Python 3",
   "language": "python",
   "name": "python3"
  },
  "language_info": {
   "codemirror_mode": {
    "name": "ipython",
    "version": 3
   },
   "file_extension": ".py",
   "mimetype": "text/x-python",
   "name": "python",
   "nbconvert_exporter": "python",
   "pygments_lexer": "ipython3",
   "version": "3.7.3"
  }
 },
 "nbformat": 4,
 "nbformat_minor": 2
}
